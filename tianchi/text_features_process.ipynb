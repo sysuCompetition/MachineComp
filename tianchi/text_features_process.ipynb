{
 "cells": [
  {
   "cell_type": "code",
   "execution_count": 1,
   "metadata": {},
   "outputs": [],
   "source": [
    "import numpy as np\n",
    "import pandas as pd\n",
    "import os\n",
    "import sys\n",
    "import tensorflow as tf\n",
    "import xgboost as xgb\n",
    "import matplotlib.pyplot as plt\n",
    "from sklearn.preprocessing import OneHotEncoder\n",
    "from sklearn.pipeline import Pipeline\n",
    "from sklearn.preprocessing import StandardScaler\n",
    "from sklearn.tree import DecisionTreeRegressor\n",
    "from sklearn.svm import SVR\n",
    "from sklearn.metrics import mean_squared_log_error\n",
    "from sklearn.model_selection  import train_test_split\n",
    "from sklearn.model_selection import cross_val_score\n",
    "from sklearn.metrics import mean_squared_log_error\n",
    "from sklearn.externals import joblib\n",
    "from sklearn.model_selection import GridSearchCV\n",
    "from sklearn.ensemble import RandomForestRegressor\n",
    "from sklearn.ensemble import GradientBoostingRegressor\n",
    "from xgboost.sklearn import XGBRegressor\n",
    "import LightGBM as lgb\n",
    "from sklearn.feature_selection import SelectFromModel\n",
    "from sklearn.linear_model import Lasso\n",
    "from sklearn.preprocessing import OneHotEncoder"
   ]
  },
  {
   "cell_type": "code",
   "execution_count": 2,
   "metadata": {
    "scrolled": false
   },
   "outputs": [
    {
     "name": "stderr",
     "output_type": "stream",
     "text": [
      "/Users/lmlyz/Library/Python/3.6/lib/python/site-packages/IPython/core/interactiveshell.py:2728: DtypeWarning: Columns (97,98,99,100,106,124,134,135,137,140,141,142,143,144,150,171,172,175,176,177,178,179,187,189,190,191,192,193,194,195,196,197,198,200,201,202,203,204,205,206,207,208,209,210) have mixed types. Specify dtype option on import or set low_memory=False.\n",
      "  interactivity=interactivity, compiler=compiler, result=result)\n"
     ]
    }
   ],
   "source": [
    "## 读取text_feature 文件\n",
    "text_features = pd.read_csv('./temp/text_features.csv',encoding='gbk')"
   ]
  },
  {
   "cell_type": "code",
   "execution_count": 4,
   "metadata": {},
   "outputs": [],
   "source": [
    "##眼科涉及到的列\n",
    "eye_col = ['1302', '1303' ,'1304', '1305', '1313', '1314', '1315' ,'1316','1328','1329','1330']\n"
   ]
  },
  {
   "cell_type": "code",
   "execution_count": 7,
   "metadata": {},
   "outputs": [],
   "source": [
    "## 对挑选出来的列 做one-hot\n",
    "def oneHot(tmp):\n",
    "    vid = tmp['vid']\n",
    "    tmp = tmp.drop(['vid'],axis=1)\n",
    "    enc=OneHotEncoder()\n",
    "    enc.fit(tmp)\n",
    "    data=enc.transform(tmp).toarray()\n",
    "    ans = pd.DataFrame(index=vid,data=data)\n",
    "    return ans"
   ]
  },
  {
   "cell_type": "code",
   "execution_count": 11,
   "metadata": {},
   "outputs": [],
   "source": [
    "def clean_eyes(df,cols):\n",
    "    \n",
    "    def func_eye(x):\n",
    "        x = str(x)\n",
    "        if x == '正常'or x =='未见异常'or x== '活动自如' or x=='未见明显异常':\n",
    "            return 1\n",
    "        elif x == '眼底检查未发现明显异常' or x == '眼底检查未见异常' or x == '眼底检查(眼底)未发现明显异常':\n",
    "            return 1\n",
    "        elif x == 'nan' or x=='无' or ('nan' in x):\n",
    "            return 0\n",
    "        else:\n",
    "            return 2\n",
    "    \n",
    "    res = pd.DataFrame(data=df['vid'])\n",
    "    for col in cols:\n",
    "        res[col] = df[col].apply(func_eye)\n",
    "    \n",
    "    ans = oneHot(res)\n",
    "    return ans"
   ]
  },
  {
   "cell_type": "code",
   "execution_count": 12,
   "metadata": {},
   "outputs": [],
   "source": [
    "## 生成 眼科的 one-hot 向量\n",
    "eye_col_csv = clean_eyes(text_features,eye_col)"
   ]
  },
  {
   "cell_type": "code",
   "execution_count": 15,
   "metadata": {},
   "outputs": [],
   "source": [
    "### 脑科 \n",
    "brain = ['1402']"
   ]
  },
  {
   "cell_type": "code",
   "execution_count": 16,
   "metadata": {},
   "outputs": [],
   "source": [
    "def clean_brain(df,cols):\n",
    "    \n",
    "    def brain_func(x):\n",
    "        x = str(x)\n",
    "        if '正常' in x  or '未见明显异常' in x:\n",
    "            return 1\n",
    "        elif x == 'nan':\n",
    "            return 0\n",
    "        else:\n",
    "            return 2\n",
    "    \n",
    "    \n",
    "    res = pd.DataFrame(data=df['vid'])\n",
    "    \n",
    "    for col in cols:\n",
    "        res[col] = df[col].apply(brain_func)\n",
    "        \n",
    "    ans = oneHot(res)\n",
    "    return ans"
   ]
  },
  {
   "cell_type": "code",
   "execution_count": 17,
   "metadata": {},
   "outputs": [],
   "source": [
    "brain_col_csv = clean_brain(text_features,brain)"
   ]
  },
  {
   "cell_type": "code",
   "execution_count": 20,
   "metadata": {},
   "outputs": [],
   "source": [
    "##阴性 阳性 健康疾病 \n",
    "health = ['2228','2229','2230','2231','2233','2302']"
   ]
  },
  {
   "cell_type": "code",
   "execution_count": 21,
   "metadata": {},
   "outputs": [],
   "source": [
    "def clean_health(df,cols):\n",
    "    \n",
    "    def health_func(x):\n",
    "        x = str(x)\n",
    "        if '正常' in x  or '未见明显异常' in x:\n",
    "            return 1\n",
    "        elif x == 'nan':\n",
    "            return 0\n",
    "        else:\n",
    "            return 2\n",
    "    \n",
    "    \n",
    "    res = pd.DataFrame(data=df['vid'])\n",
    "    \n",
    "    for col in cols:\n",
    "        res[col] = df[col].apply(health_func)\n",
    "        \n",
    "    ans = oneHot(res)\n",
    "    return ans"
   ]
  },
  {
   "cell_type": "code",
   "execution_count": 22,
   "metadata": {},
   "outputs": [],
   "source": [
    "health_col_csv = clean_health(text_features,health)"
   ]
  },
  {
   "cell_type": "code",
   "execution_count": 23,
   "metadata": {},
   "outputs": [],
   "source": [
    "## 妇科检测\n",
    "female = ['2501']"
   ]
  },
  {
   "cell_type": "code",
   "execution_count": 24,
   "metadata": {},
   "outputs": [],
   "source": [
    "def clean_female(df,cols):\n",
    "    \n",
    "    def female_func(x):\n",
    "        x = str(x)\n",
    "        if '未见' in x or '正常' in x:\n",
    "            return 1\n",
    "        elif 'nan' == x:\n",
    "            return 0\n",
    "        else:\n",
    "            return 2\n",
    "    \n",
    "    \n",
    "    res = pd.DataFrame(data=df['vid'])\n",
    "    \n",
    "    for col in cols:\n",
    "        res[col] = df[col].apply(female_func)\n",
    "        \n",
    "    ans = oneHot(res)\n",
    "    return ans"
   ]
  },
  {
   "cell_type": "code",
   "execution_count": 25,
   "metadata": {},
   "outputs": [],
   "source": [
    "female_col_csv = clean_female(text_features,female)"
   ]
  },
  {
   "cell_type": "code",
   "execution_count": 26,
   "metadata": {},
   "outputs": [],
   "source": [
    "## + - 阴 阳\n",
    "plus_minus = ['300018','300019','3189','3190','3191','3192','3194','3195','3196','3197']"
   ]
  },
  {
   "cell_type": "code",
   "execution_count": 27,
   "metadata": {},
   "outputs": [],
   "source": [
    "## 根据上面列的信息，一共分为5类\n",
    "def clean_plus_minus(df,cols):\n",
    "    \n",
    "    def plus_minus_func(x):\n",
    "        x = str(x)\n",
    "        if '阴' in x or x == '正常':\n",
    "            return 1\n",
    "        elif x == '-':\n",
    "            return 1\n",
    "        elif '阳' in x:\n",
    "            return 1\n",
    "        elif x == '+-':\n",
    "            return 2\n",
    "        elif x == '++':\n",
    "            return 3\n",
    "        elif x == '+++':\n",
    "            return 4\n",
    "        elif 'nan' == x:\n",
    "            return 0\n",
    "        else:\n",
    "            return 5\n",
    "    \n",
    "    res = pd.DataFrame(data=df['vid'])\n",
    "    \n",
    "    for col in cols:\n",
    "        res[col] = df[col].apply(plus_minus_func)\n",
    "        \n",
    "    ans = oneHot(res)\n",
    "    return ans"
   ]
  },
  {
   "cell_type": "code",
   "execution_count": 28,
   "metadata": {},
   "outputs": [],
   "source": [
    "plus_minus_csv = clean_plus_minus(text_features,plus_minus)"
   ]
  },
  {
   "cell_type": "code",
   "execution_count": 29,
   "metadata": {},
   "outputs": [],
   "source": [
    "## 骨质酥松\n",
    "bone = ['3601']"
   ]
  },
  {
   "cell_type": "code",
   "execution_count": 32,
   "metadata": {},
   "outputs": [],
   "source": [
    "def clean_bone(df,cols):\n",
    "    \n",
    "    def bone_func(x):\n",
    "        x = str(x)\n",
    "\n",
    "        if '正常' in x:\n",
    "            return 1\n",
    "        elif  'nan' == x:\n",
    "            return 0\n",
    "        else:\n",
    "            return 2\n",
    "    \n",
    "    res = pd.DataFrame(data=df['vid'])\n",
    "    \n",
    "    for col in cols:\n",
    "        res[col] = df[col].apply(bone_func)\n",
    "        \n",
    "    ans = oneHot(res)\n",
    "    return ans"
   ]
  },
  {
   "cell_type": "code",
   "execution_count": 33,
   "metadata": {},
   "outputs": [],
   "source": [
    "bone_col_csv = clean_bone(text_features,bone)"
   ]
  },
  {
   "cell_type": "code",
   "execution_count": 34,
   "metadata": {},
   "outputs": [],
   "source": [
    "#血液检测\n",
    "blood = ['4001']"
   ]
  },
  {
   "cell_type": "code",
   "execution_count": 35,
   "metadata": {},
   "outputs": [],
   "source": [
    "def clean_blood(df,cols):\n",
    "    \n",
    "    def blood_func(x):\n",
    "        x = str(x)\n",
    "\n",
    "        if '正常' in x:\n",
    "            return 1\n",
    "        elif  'nan' == x:\n",
    "            return 0\n",
    "        else:\n",
    "            return 2\n",
    "    \n",
    "    res = pd.DataFrame(data=df['vid'])\n",
    "    \n",
    "    for col in cols:\n",
    "        res[col] = df[col].apply(blood_func)\n",
    "        \n",
    "    ans = oneHot(res)\n",
    "    return ans"
   ]
  },
  {
   "cell_type": "code",
   "execution_count": 36,
   "metadata": {},
   "outputs": [],
   "source": [
    "blood_col_csv = clean_blood(text_features,blood)"
   ]
  },
  {
   "cell_type": "code",
   "execution_count": 37,
   "metadata": {},
   "outputs": [],
   "source": [
    "## 颜色 （黄色，淡黄） 这一列的处理\n",
    "color = ['3399']"
   ]
  },
  {
   "cell_type": "code",
   "execution_count": 38,
   "metadata": {},
   "outputs": [],
   "source": [
    "def clean_color(df,cols):\n",
    "    \n",
    "    def color_func(x):\n",
    "        x = str(x)\n",
    "\n",
    "        if '正常' in x:\n",
    "            return 1\n",
    "        elif  'nan' == x:\n",
    "            return 0\n",
    "        else:\n",
    "            return 2\n",
    "    \n",
    "    res = pd.DataFrame(data=df['vid'])\n",
    "    \n",
    "    for col in cols:\n",
    "        res[col] = df[col].apply(color_func)\n",
    "        \n",
    "    ans = oneHot(res)\n",
    "    return ans"
   ]
  },
  {
   "cell_type": "code",
   "execution_count": 39,
   "metadata": {},
   "outputs": [],
   "source": [
    "color_col_csv = clean_color(text_features,color)"
   ]
  },
  {
   "cell_type": "code",
   "execution_count": 40,
   "metadata": {},
   "outputs": [],
   "source": [
    "###幽门螺旋杆菌\n",
    "hp = ['3301']"
   ]
  },
  {
   "cell_type": "code",
   "execution_count": 41,
   "metadata": {},
   "outputs": [],
   "source": [
    "def clean_hp(df,cols):\n",
    "    \n",
    "    def hp_func(x):\n",
    "        x = str(x)\n",
    "\n",
    "        if '正常' in x:\n",
    "            return 1\n",
    "        elif  'nan' == x:\n",
    "            return 0\n",
    "        else:\n",
    "            return 2\n",
    "    \n",
    "    res = pd.DataFrame(data=df['vid'])\n",
    "    \n",
    "    for col in cols:\n",
    "        res[col] = df[col].apply(hp_func)\n",
    "        \n",
    "    ans = oneHot(res)\n",
    "    return ans"
   ]
  },
  {
   "cell_type": "code",
   "execution_count": 42,
   "metadata": {},
   "outputs": [],
   "source": [
    "hp_col_csv = clean_hp(text_features,hp)"
   ]
  },
  {
   "cell_type": "code",
   "execution_count": 43,
   "metadata": {},
   "outputs": [],
   "source": [
    "one_hot_all = pd.concat([eye_col_csv,brain_col_csv],axis=1,join='inner')\n",
    "one_hot_all = pd.concat([one_hot_all,health_col_csv],axis=1,join='inner')\n",
    "one_hot_all = pd.concat([one_hot_all,female_col_csv],axis=1,join='inner')\n",
    "one_hot_all = pd.concat([one_hot_all,plus_minus_csv],axis=1,join='inner')\n",
    "one_hot_all = pd.concat([one_hot_all,bone_col_csv],axis=1,join='inner')\n",
    "one_hot_all = pd.concat([one_hot_all,blood_col_csv],axis=1,join='inner')\n",
    "one_hot_all = pd.concat([one_hot_all,color_col_csv],axis=1,join='inner')\n",
    "one_hot_all = pd.concat([one_hot_all,hp_col_csv],axis=1,join='inner')"
   ]
  },
  {
   "cell_type": "code",
   "execution_count": 47,
   "metadata": {},
   "outputs": [],
   "source": [
    "#57298 rows × 116 columns\n",
    "one_hot_all.to_csv('./temp/one_hot_all.csv')"
   ]
  },
  {
   "cell_type": "code",
   "execution_count": null,
   "metadata": {},
   "outputs": [],
   "source": []
  }
 ],
 "metadata": {
  "kernelspec": {
   "display_name": "Python 3",
   "language": "python",
   "name": "python3"
  },
  "language_info": {
   "codemirror_mode": {
    "name": "ipython",
    "version": 3
   },
   "file_extension": ".py",
   "mimetype": "text/x-python",
   "name": "python",
   "nbconvert_exporter": "python",
   "pygments_lexer": "ipython3",
   "version": "3.6.4"
  }
 },
 "nbformat": 4,
 "nbformat_minor": 2
}
